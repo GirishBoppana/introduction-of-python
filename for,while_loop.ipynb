{
  "cells": [
    {
      "cell_type": "markdown",
      "metadata": {
        "id": "cGZVq4c5r1d1"
      },
      "source": [
        "**1.Write a program to find the largest of three numbers entered by the user.**"
      ]
    },
    {
      "cell_type": "code",
      "execution_count": null,
      "metadata": {
        "colab": {
          "base_uri": "https://localhost:8080/"
        },
        "id": "q7665Q8ms25f",
        "outputId": "2e398ea0-5a14-4b09-9f6c-048abda28ade"
      },
      "outputs": [
        {
          "name": "stdout",
          "output_type": "stream",
          "text": [
            "Enter first number:29\n",
            "Enter second number:40\n",
            "Enter third number:49\n",
            "49 is largest\n"
          ]
        }
      ],
      "source": [
        "a=int(input(\"Enter first number:\"))\n",
        "b=int(input(\"Enter second number:\"))\n",
        "c=int(input(\"Enter third number:\"))\n",
        "while a>b and a>c:\n",
        "  print(a,\"is largest\")\n",
        "  break\n",
        "while b>a and b>c:\n",
        "  print(b,\"is largest\")\n",
        "  break\n",
        "while c>a and c>b:\n",
        "    print(c,\"is largest\")\n",
        "    break"
      ]
    },
    {
      "cell_type": "markdown",
      "metadata": {
        "id": "Mz1HvPMCs-Jh"
      },
      "source": [
        "**2.Write a program to check if a number is divisible by both 5 and 11.**"
      ]
    },
    {
      "cell_type": "code",
      "execution_count": null,
      "metadata": {
        "colab": {
          "base_uri": "https://localhost:8080/"
        },
        "id": "4qOqRv-ltNqF",
        "outputId": "f8c9a365-cf3a-4730-85e6-1c2069232441"
      },
      "outputs": [
        {
          "name": "stdout",
          "output_type": "stream",
          "text": [
            "Enter a number: 55\n",
            "55 is divisible by both 5 and 11\n"
          ]
        }
      ],
      "source": [
        "num = int(input(\"Enter a number: \"))\n",
        "while num % 5 == 0 and num % 11 == 0:\n",
        "    print(num, \"is divisible by both 5 and 11\")\n",
        "    break\n",
        "else:\n",
        "    print(num, \"is not divisible by both 5 and 11\")"
      ]
    },
    {
      "cell_type": "markdown",
      "metadata": {
        "id": "6_O2AV4LtkLu"
      },
      "source": [
        "**3.Write a python program to check whether the input character is an alphabet,digit,or special character.**"
      ]
    },
    {
      "cell_type": "code",
      "execution_count": null,
      "metadata": {
        "colab": {
          "base_uri": "https://localhost:8080/"
        },
        "id": "1IpmAnbGtsB8",
        "outputId": "8b2efcf3-0dea-42c4-aa43-2d8c93aca5cd"
      },
      "outputs": [
        {
          "name": "stdout",
          "output_type": "stream",
          "text": [
            "Enter a character: er\n",
            "er is an alphabet\n",
            "er is a special character\n"
          ]
        }
      ],
      "source": [
        "char = input(\"Enter a character: \")\n",
        "while char.isalpha():\n",
        "    print(char, \"is an alphabet\")\n",
        "    break\n",
        "while char.isdigit():\n",
        "    print(char, \"is a digit\")\n",
        "    break\n",
        "else:\n",
        "    print(char, \"is a special character\")"
      ]
    },
    {
      "cell_type": "markdown",
      "metadata": {
        "id": "FkHtajqeuU6G"
      },
      "source": [
        "**4.Write a python to check if three sides can from a valid traingle.**"
      ]
    },
    {
      "cell_type": "code",
      "execution_count": null,
      "metadata": {
        "colab": {
          "base_uri": "https://localhost:8080/"
        },
        "id": "TyZ21E-hugVQ",
        "outputId": "13bf0668-a0e5-4ee3-8c5f-685041fe76e0"
      },
      "outputs": [
        {
          "name": "stdout",
          "output_type": "stream",
          "text": [
            "Enter first side: 38\n",
            "Enter second side: 57\n",
            "Enter third side: 54\n",
            "Three sides can form a triangle\n"
          ]
        }
      ],
      "source": [
        "a = int(input(\"Enter first side: \"))\n",
        "b = int(input(\"Enter second side: \"))\n",
        "c = int(input(\"Enter third side: \"))\n",
        "while a + b > c and a + c > b and b + c > a:\n",
        "    print(\"Three sides can form a triangle\")\n",
        "    break\n",
        "else:\n",
        "    print(\"Three sides cannot form a triangle\")"
      ]
    },
    {
      "cell_type": "markdown",
      "metadata": {
        "id": "De4XXWbluuWL"
      },
      "source": [
        "**5.Write a python program to find the absolute value of a number.**"
      ]
    },
    {
      "cell_type": "code",
      "execution_count": null,
      "metadata": {
        "colab": {
          "base_uri": "https://localhost:8080/"
        },
        "id": "YrMWGAVUu2o_",
        "outputId": "72d21151-a4c3-46bb-9744-132b7a79e20e"
      },
      "outputs": [
        {
          "name": "stdout",
          "output_type": "stream",
          "text": [
            "Enter a number: 47\n",
            "The absolute value of 47 is 47\n"
          ]
        }
      ],
      "source": [
        "a = int(input(\"Enter a number: \"))\n",
        "while a < 0:\n",
        "    print(\"The absolute value of\", a, \"is\", -a)\n",
        "    break\n",
        "else:\n",
        "    print(\"The absolute value of\", a, \"is\", a)"
      ]
    },
    {
      "cell_type": "markdown",
      "metadata": {
        "id": "8mL66i1MvNxO"
      },
      "source": [
        "**6.Write a python program to determine whether a given year is a century year or not.**"
      ]
    },
    {
      "cell_type": "code",
      "execution_count": null,
      "metadata": {
        "colab": {
          "base_uri": "https://localhost:8080/"
        },
        "id": "ScuqmchFvWuX",
        "outputId": "aabebf63-7ac1-4f63-d4b0-10591f670213"
      },
      "outputs": [
        {
          "name": "stdout",
          "output_type": "stream",
          "text": [
            "Enter a year: 2025\n",
            "2025 is not a century year\n"
          ]
        }
      ],
      "source": [
        "y = int(input(\"Enter a year: \"))\n",
        "while y % 100 == 0:\n",
        "    print(y, \"is a century year\")\n",
        "    break\n",
        "else:\n",
        "    print(y, \"is not a century year\")"
      ]
    },
    {
      "cell_type": "markdown",
      "metadata": {
        "id": "mSTekXSzvhR0"
      },
      "source": [
        "**7.Write a python program to determine whether a person's BMI(Body Mass index) falls under underweight, normalweight, overweight, or obese categories.**"
      ]
    },
    {
      "cell_type": "code",
      "execution_count": null,
      "metadata": {
        "colab": {
          "base_uri": "https://localhost:8080/"
        },
        "id": "8LinXAxOvpX-",
        "outputId": "d7b4d8d8-4fde-41c3-a8cd-92b3aa6dd927"
      },
      "outputs": [
        {
          "name": "stdout",
          "output_type": "stream",
          "text": [
            "Enter your weight in kilograms: 80\n",
            "Enter your height in meters: 2.5\n",
            "You are underweight\n"
          ]
        }
      ],
      "source": [
        "w = float(input(\"Enter your weight in kilograms: \"))\n",
        "h = float(input(\"Enter your height in meters: \"))\n",
        "bmi = w / (h ** 2)\n",
        "while bmi < 18.5:\n",
        "    print(\"You are underweight\")\n",
        "    break\n",
        "while bmi >= 25 and bmi <= 29.9:\n",
        "        print(\"You are overweight\")\n",
        "        break\n",
        "\n",
        "while bmi >= 30:\n",
        "        print(\"You are obese\")\n",
        "        break"
      ]
    },
    {
      "cell_type": "markdown",
      "metadata": {
        "id": "FXfmmMqNwav2"
      },
      "source": [
        "**8.Write a python program to check if a given character is an uppercase or lowecase letter.**"
      ]
    },
    {
      "cell_type": "code",
      "execution_count": null,
      "metadata": {
        "colab": {
          "base_uri": "https://localhost:8080/"
        },
        "id": "Q_BR4LYOwjoH",
        "outputId": "b4a9f617-7d3b-4a06-9cb4-eeef2db132e5"
      },
      "outputs": [
        {
          "name": "stdout",
          "output_type": "stream",
          "text": [
            "Enter a character: g\n",
            "g is a lowercase letter\n"
          ]
        }
      ],
      "source": [
        "char = input(\"Enter a character: \")\n",
        "for i in char:\n",
        "    if i.isupper():\n",
        "        print(i, \"is an uppercase letter\")\n",
        "        break\n",
        "    elif i.islower():\n",
        "        print(i, \"is a lowercase letter\")\n",
        "        break"
      ]
    },
    {
      "cell_type": "markdown",
      "metadata": {
        "id": "1WAiwwonw8xO"
      },
      "source": [
        "**9.Write a program to classify a number as small,medium, or large based on given thresolds.**"
      ]
    },
    {
      "cell_type": "code",
      "execution_count": null,
      "metadata": {
        "colab": {
          "base_uri": "https://localhost:8080/"
        },
        "id": "ZbZhBMAOxNS-",
        "outputId": "0508e243-aedf-4609-d476-f6567f31f2fc"
      },
      "outputs": [
        {
          "name": "stdout",
          "output_type": "stream",
          "text": [
            "Enter a number: 67\n",
            "67 is a medium number\n"
          ]
        }
      ],
      "source": [
        "num = int(input(\"Enter a number: \"))\n",
        "while num < 10:\n",
        "    print(num, \"is a small number\")\n",
        "    break\n",
        "while num >= 10 and num <= 100:\n",
        "    print(num, \"is a medium number\")\n",
        "    break\n",
        "while num > 100:\n",
        "        print(num, \"is a large number\")\n",
        "        break"
      ]
    },
    {
      "cell_type": "markdown",
      "metadata": {
        "id": "vy7UVE0VxgCU"
      },
      "source": [
        "**10.Write a program to determine the type triangle based on the length of the sides (equilateral,isosceles,scalene).**"
      ]
    },
    {
      "cell_type": "code",
      "execution_count": null,
      "metadata": {
        "colab": {
          "base_uri": "https://localhost:8080/"
        },
        "id": "JffxhzuNxrXQ",
        "outputId": "b8c0ee5c-dd32-4bcc-d07c-12b7e2c7ce31"
      },
      "outputs": [
        {
          "name": "stdout",
          "output_type": "stream",
          "text": [
            "Enter first side: 30\n",
            "Enter second side: 40\n",
            "Enter third side: 50\n",
            "Scalene triangle\n"
          ]
        }
      ],
      "source": [
        "s1 = int(input(\"Enter first side: \"))\n",
        "s2 = int(input(\"Enter second side: \"))\n",
        "s3 = int(input(\"Enter third side: \"))\n",
        "while s1 == s2 == s3:\n",
        "    print(\"Equilateral triangle\")\n",
        "    break\n",
        "while s1 == s2 or s1 == s3 or s2 == s3:\n",
        "    print(\"Isosceles triangle\")\n",
        "    break\n",
        "while s1 != s2 != s3:\n",
        "    print(\"Scalene triangle\")\n",
        "    break"
      ]
    },
    {
      "cell_type": "markdown",
      "metadata": {
        "id": "28WfOz71yI0y"
      },
      "source": [
        "**11.Write a program to check if a number is a palindrome.**"
      ]
    },
    {
      "cell_type": "code",
      "execution_count": null,
      "metadata": {
        "colab": {
          "base_uri": "https://localhost:8080/"
        },
        "id": "-P8OybVSyP-o",
        "outputId": "e1f22d24-43b4-4e1f-bf50-bd2f7fdfb9ff"
      },
      "outputs": [
        {
          "name": "stdout",
          "output_type": "stream",
          "text": [
            "Enter a num: 45\n",
            "45 is not a palindrome\n",
            "45 is not a palindrome\n"
          ]
        }
      ],
      "source": [
        "num = int(input(\"Enter a num: \"))\n",
        "for i in str(num):\n",
        "    if i == str(num)[::-1]:\n",
        "        print(num, \"is a palindrome\")\n",
        "        break\n",
        "    else:\n",
        "        print(num, \"is not a palindrome\")"
      ]
    },
    {
      "cell_type": "markdown",
      "metadata": {
        "id": "5q8_Q6-e0aqY"
      },
      "source": [
        "**12.Write a program to determine if a given angle is acute,right,or obtuse.**"
      ]
    },
    {
      "cell_type": "code",
      "execution_count": null,
      "metadata": {
        "colab": {
          "base_uri": "https://localhost:8080/"
        },
        "id": "2E2qma2E0iLw",
        "outputId": "d1dd5e56-6bf1-4b13-b820-ca6a35c2e370"
      },
      "outputs": [
        {
          "name": "stdout",
          "output_type": "stream",
          "text": [
            "Enter an angle: 57\n",
            "57 is an acute angle\n"
          ]
        }
      ],
      "source": [
        "a = int(input(\"Enter an angle: \"))\n",
        "while a < 90:\n",
        "    print(a, \"is an acute angle\")\n",
        "    break\n",
        "while a == 90:\n",
        "    print(a, \"is a right angle\")\n",
        "    break\n",
        "while a > 90:\n",
        "    print(a, \"is an obtuse angle\")\n",
        "    break"
      ]
    },
    {
      "cell_type": "markdown",
      "metadata": {
        "id": "6h1hUdwS06T6"
      },
      "source": [
        "**13.Write a program to check whether the sum of two numbers is equal to a third number provide by the user.**"
      ]
    },
    {
      "cell_type": "code",
      "execution_count": 3,
      "metadata": {
        "colab": {
          "base_uri": "https://localhost:8080/"
        },
        "id": "iI-odMvi1DW8",
        "outputId": "a852d5e7-3cd0-47d6-9e21-2d414189b3ba"
      },
      "outputs": [
        {
          "output_type": "stream",
          "name": "stdout",
          "text": [
            "Enter first number: 10\n",
            "Enter second number: 20\n",
            "Enter third number: 30\n",
            "The sum of 10 and 20 is equal to 30\n"
          ]
        }
      ],
      "source": [
        "a = int(input(\"Enter first number: \"))\n",
        "b = int(input(\"Enter second number: \"))\n",
        "c = int(input(\"Enter third number: \"))\n",
        "while a + b == c:\n",
        "    print(\"The sum of\", a, \"and\", b, \"is equal to\", c)\n",
        "    break\n",
        "else:\n",
        "    print(\"The sum of\", a, \"and\", b, \"is not equal to\", c)"
      ]
    }
  ],
  "metadata": {
    "colab": {
      "provenance": []
    },
    "kernelspec": {
      "display_name": "Python 3",
      "name": "python3"
    },
    "language_info": {
      "name": "python"
    }
  },
  "nbformat": 4,
  "nbformat_minor": 0
}