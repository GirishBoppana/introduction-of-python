{
  "nbformat": 4,
  "nbformat_minor": 0,
  "metadata": {
    "colab": {
      "provenance": []
    },
    "kernelspec": {
      "name": "python3",
      "display_name": "Python 3"
    },
    "language_info": {
      "name": "python"
    }
  },
  "cells": [
    {
      "cell_type": "markdown",
      "source": [
        "# Python Functions\n",
        "* Python functions are reusable blocks of code defined using the `def` keyword, which take inputs parameters, execute a sequence of statements, and can return a value. They help organize code, promote reusability, and improve readability.\n",
        "\n",
        " **Example**"
      ],
      "metadata": {
        "id": "ueQUtsXF1HE8"
      }
    },
    {
      "cell_type": "code",
      "source": [
        "def car():\n",
        "  print(\"swift\")"
      ],
      "metadata": {
        "id": "pF6PlNQR2q--"
      },
      "execution_count": 7,
      "outputs": []
    },
    {
      "cell_type": "code",
      "source": [
        "car()"
      ],
      "metadata": {
        "id": "XL-Wd7Zd4uNQ",
        "outputId": "742ebda0-ede3-4843-a0a7-ee11c88bd67f",
        "colab": {
          "base_uri": "https://localhost:8080/"
        }
      },
      "execution_count": 8,
      "outputs": [
        {
          "output_type": "stream",
          "name": "stdout",
          "text": [
            "swift\n"
          ]
        }
      ]
    },
    {
      "cell_type": "markdown",
      "source": [
        "# Arguments\n",
        "* Information can be passed into functions as arguments.\n",
        "* Arguments are specified after the function name, inside the parentheses.we can add as many arguments as you want, just separate them with a comma.\n",
        "\n",
        " **Example**"
      ],
      "metadata": {
        "id": "75Xec9_346Ot"
      }
    },
    {
      "cell_type": "code",
      "source": [
        "def bike(name):\n",
        "  print(f\"{name} is a bike\")"
      ],
      "metadata": {
        "id": "kHXEi5_559By"
      },
      "execution_count": 12,
      "outputs": []
    },
    {
      "cell_type": "code",
      "source": [
        "bike(\"KTM\")"
      ],
      "metadata": {
        "id": "E72R1jCe6QHN",
        "outputId": "ddd670e6-977f-41b0-9718-9b94a8fa060e",
        "colab": {
          "base_uri": "https://localhost:8080/"
        }
      },
      "execution_count": 13,
      "outputs": [
        {
          "output_type": "stream",
          "name": "stdout",
          "text": [
            "KTM is a bike\n"
          ]
        }
      ]
    },
    {
      "cell_type": "markdown",
      "source": [
        "# Python Lambda\n",
        "* lambda function is a small anonymous fuction.\n",
        "* lambda function can take any two numbers of arguments, but can only have one expression"
      ],
      "metadata": {
        "id": "7ErlyAux7Fid"
      }
    },
    {
      "cell_type": "code",
      "source": [
        "a = lambda x,y : x*y\n",
        "print(a(5,6))"
      ],
      "metadata": {
        "id": "yab9VUTK8J-s",
        "outputId": "d5daa15c-6047-4668-d154-c8bb6a9546a1",
        "colab": {
          "base_uri": "https://localhost:8080/"
        }
      },
      "execution_count": 14,
      "outputs": [
        {
          "output_type": "stream",
          "name": "stdout",
          "text": [
            "30\n"
          ]
        }
      ]
    },
    {
      "cell_type": "markdown",
      "source": [
        "# filter()function:\n",
        "* The filter function returns an iteration where the items are filtered through a function to test if the item is accepted or not.\n",
        "\n",
        " **Example**"
      ],
      "metadata": {
        "id": "387lv63p8OB6"
      }
    },
    {
      "cell_type": "code",
      "source": [
        "mylist = [1,2,3,4,5,6,7,8,9]\n",
        "newlist = list(filter(lambda x : (x%2==0),mylist))\n",
        "print(newlist)"
      ],
      "metadata": {
        "id": "Z8jSfqoR9COs",
        "outputId": "82130d5c-0ae5-4e9b-e599-2a26cf66bbc3",
        "colab": {
          "base_uri": "https://localhost:8080/"
        }
      },
      "execution_count": 15,
      "outputs": [
        {
          "output_type": "stream",
          "name": "stdout",
          "text": [
            "[2, 4, 6, 8]\n"
          ]
        }
      ]
    },
    {
      "cell_type": "code",
      "source": [
        "mylist2 = [1,2,3,4,5,6,7,8,9]\n",
        "newlist2 = list(filter(lambda x : (x%2!=0),mylist2))\n",
        "print(newlist2)"
      ],
      "metadata": {
        "id": "5KArjLN795Me",
        "outputId": "ee2063b2-dff6-4e78-a508-ba6e9a5b6685",
        "colab": {
          "base_uri": "https://localhost:8080/"
        }
      },
      "execution_count": 16,
      "outputs": [
        {
          "output_type": "stream",
          "name": "stdout",
          "text": [
            "[1, 3, 5, 7, 9]\n"
          ]
        }
      ]
    },
    {
      "cell_type": "markdown",
      "source": [
        "# map()function:\n",
        "* we can also use lambda expressionsn with map to achive above result."
      ],
      "metadata": {
        "id": "4ZxoX0FC-XX1"
      }
    },
    {
      "cell_type": "code",
      "source": [
        "list3 = [1,2,3,4,5,6,7,8,9]\n",
        "newlist3 = list(map(lambda x : x + x,list3))\n",
        "print(newlist3)"
      ],
      "metadata": {
        "id": "d4tsOhzW-7hn",
        "outputId": "51506b49-b93b-4fba-9c7d-a3ef9ae220ac",
        "colab": {
          "base_uri": "https://localhost:8080/"
        }
      },
      "execution_count": 17,
      "outputs": [
        {
          "output_type": "stream",
          "name": "stdout",
          "text": [
            "[2, 4, 6, 8, 10, 12, 14, 16, 18]\n"
          ]
        }
      ]
    },
    {
      "cell_type": "code",
      "source": [
        "list4 = [1,2,3,4,5,6,7,8,9]\n",
        "list5 = [9,8,7,6,5,4,3,2,1]\n",
        "newlist4 = list(map(lambda x,y : x + y,list4,list5))\n",
        "print(newlist4)"
      ],
      "metadata": {
        "id": "rurlSsN2_MPk",
        "outputId": "ef4ae663-a082-418b-d346-22011ee51554",
        "colab": {
          "base_uri": "https://localhost:8080/"
        }
      },
      "execution_count": 18,
      "outputs": [
        {
          "output_type": "stream",
          "name": "stdout",
          "text": [
            "[10, 10, 10, 10, 10, 10, 10, 10, 10]\n"
          ]
        }
      ]
    }
  ]
}