{
  "nbformat": 4,
  "nbformat_minor": 0,
  "metadata": {
    "colab": {
      "provenance": []
    },
    "kernelspec": {
      "name": "python3",
      "display_name": "Python 3"
    },
    "language_info": {
      "name": "python"
    }
  },
  "cells": [
    {
      "cell_type": "markdown",
      "source": [
        "# Python Sets\n",
        "* Sets are collections of unique elements and do not maintain any order. The order of elements may vary.\n",
        "\n",
        "* Sets automatically eliminate duplicate values. If you try to add a duplicate item, it will not be added to the set.\n",
        "\n",
        "* Sets are mutable, meaning you can add or remove items after the set is created.\n",
        "\n",
        "* Although sets themselves are mutable, the elements contained within them must be immutable.\n",
        "\n",
        "* Sets support mathematical operations like union (|), intersection (&), difference (-), and symmetric difference (^).\n",
        "\n",
        "# Creating Sets\n"
      ],
      "metadata": {
        "id": "RtwGOnNs5Ldw"
      }
    },
    {
      "cell_type": "code",
      "source": [
        "myset = {1, 2, 3}\n",
        "print(myset)\n",
        "myset1 = {1.0, \"Hello\", (1, 2, 3)}  # mixed datatypes\n",
        "print(myset1)\n"
      ],
      "metadata": {
        "colab": {
          "base_uri": "https://localhost:8080/"
        },
        "id": "gj2hmATe6IJ2",
        "outputId": "e88532b4-1d77-4a90-e0f4-1baeaab38a6f"
      },
      "execution_count": 1,
      "outputs": [
        {
          "output_type": "stream",
          "name": "stdout",
          "text": [
            "{1, 2, 3}\n",
            "{1.0, (1, 2, 3), 'Hello'}\n"
          ]
        }
      ]
    },
    {
      "cell_type": "markdown",
      "source": [
        "# Converting a list to set"
      ],
      "metadata": {
        "id": "-xpux4wK60Fz"
      }
    },
    {
      "cell_type": "code",
      "source": [
        "num = set([1, 2, 3, 2])\n",
        "print(num)\n",
        "print(type(num))\n",
        "numbers = {2, 3, 4, 5, 6, 7, 8, 2, 9, 1, 3,}\n",
        "print(numbers)"
      ],
      "metadata": {
        "colab": {
          "base_uri": "https://localhost:8080/"
        },
        "id": "EoUk7HuH661j",
        "outputId": "1e97f504-2b9b-403b-f307-fb2e177f2222"
      },
      "execution_count": 3,
      "outputs": [
        {
          "output_type": "stream",
          "name": "stdout",
          "text": [
            "{1, 2, 3}\n",
            "<class 'set'>\n",
            "{1, 2, 3, 4, 5, 6, 7, 8, 9}\n"
          ]
        }
      ]
    },
    {
      "cell_type": "code",
      "source": [
        "highnum = {32, 43, 44, 86, 75, 88, 92, 44, 75}\n",
        "highnum"
      ],
      "metadata": {
        "colab": {
          "base_uri": "https://localhost:8080/"
        },
        "id": "vf6Ae09w73Bu",
        "outputId": "c4d8d335-71df-4bce-e951-f1c871b59793"
      },
      "execution_count": 4,
      "outputs": [
        {
          "output_type": "execute_result",
          "data": {
            "text/plain": [
              "{32, 43, 44, 75, 86, 88, 92}"
            ]
          },
          "metadata": {},
          "execution_count": 4
        }
      ]
    },
    {
      "cell_type": "code",
      "source": [
        "lrgnumb = {105, 185, 206, 22, 49, 902, 10003, 49, 105, 22, 49, 504, 188, 10003}\n",
        "lrgnumb"
      ],
      "metadata": {
        "colab": {
          "base_uri": "https://localhost:8080/"
        },
        "id": "A_Ijvv6L8XCu",
        "outputId": "9a24e3de-af51-4dd8-e0f1-b70ac11c0b41"
      },
      "execution_count": 5,
      "outputs": [
        {
          "output_type": "execute_result",
          "data": {
            "text/plain": [
              "{22, 49, 105, 185, 188, 206, 504, 902, 10003}"
            ]
          },
          "metadata": {},
          "execution_count": 5
        }
      ]
    },
    {
      "cell_type": "markdown",
      "source": [
        "# Add Items\n",
        "To add one item to set use the add() method."
      ],
      "metadata": {
        "id": "musZVINV8-f3"
      }
    },
    {
      "cell_type": "code",
      "source": [
        "myset = {1, 2, 3}\n",
        "myset.add(4)\n",
        "print(myset)\n",
        "myset = {\"sai\", \"teja\", \"krishna\"}\n",
        "myset.add(\"siva\")\n",
        "print(myset)\n",
        "myset = {1, 2, 3, 4, 5, 6, 7, 8, 9, 10,}\n",
        "myset.add(\"numbers\")\n",
        "print(myset)"
      ],
      "metadata": {
        "colab": {
          "base_uri": "https://localhost:8080/"
        },
        "id": "X0RSlms-9P8I",
        "outputId": "11dbec60-893c-4d01-d358-69e3cf04a915"
      },
      "execution_count": 9,
      "outputs": [
        {
          "output_type": "stream",
          "name": "stdout",
          "text": [
            "{1, 2, 3, 4}\n",
            "{'krishna', 'siva', 'sai', 'teja'}\n",
            "{1, 2, 3, 4, 5, 6, 7, 8, 9, 10, 'numbers'}\n"
          ]
        }
      ]
    },
    {
      "cell_type": "markdown",
      "source": [
        "# Update Sets\n",
        "* The object in the update() method does not have to be a set, it can be any iterable object."
      ],
      "metadata": {
        "id": "ChmNjLjp-pDR"
      }
    },
    {
      "cell_type": "code",
      "source": [
        "myset = {1, 2, 3, 4, 5, 6, 7, 8, 9}\n",
        "myset.update([\"sai\", \"teja\", \"krishna\"])\n",
        "print(myset)"
      ],
      "metadata": {
        "colab": {
          "base_uri": "https://localhost:8080/"
        },
        "id": "dCshGfsg_GIx",
        "outputId": "183c6177-efcc-49c4-af33-7855363a17af"
      },
      "execution_count": 13,
      "outputs": [
        {
          "output_type": "stream",
          "name": "stdout",
          "text": [
            "{1, 2, 3, 4, 5, 6, 7, 8, 9, 'sai', 'krishna', 'teja'}\n"
          ]
        }
      ]
    },
    {
      "cell_type": "code",
      "source": [
        "myset = {\"sai\", \"teja\", \"krishna\"}\n",
        "myset.update([1, 2, 3, 4, 5, 6, 7, 8, 9,])\n",
        "print(myset)"
      ],
      "metadata": {
        "colab": {
          "base_uri": "https://localhost:8080/"
        },
        "id": "ufPsguqa_tY6",
        "outputId": "44753fcb-32e1-4ea6-9962-195625e866bf"
      },
      "execution_count": 15,
      "outputs": [
        {
          "output_type": "stream",
          "name": "stdout",
          "text": [
            "{1, 2, 3, 'sai', 4, 5, 6, 7, 'krishna', 8, 9, 'teja'}\n"
          ]
        }
      ]
    },
    {
      "cell_type": "markdown",
      "source": [
        "# Remove a Set element\n",
        "* To remove an item in set use remove(),or discard() method."
      ],
      "metadata": {
        "id": "79d3YApqASJ-"
      }
    },
    {
      "cell_type": "code",
      "source": [
        "myset = {1, 2, 3, 4, 5, 6, 7, 8, 9, 10}\n",
        "myset.remove(10)\n",
        "print(myset)\n",
        "myset = {\"sai\", \"teja\", \"krishna\"}\n",
        "myset.discard(\"sai\")\n",
        "print(myset)"
      ],
      "metadata": {
        "colab": {
          "base_uri": "https://localhost:8080/"
        },
        "id": "xLFlqlkHArUM",
        "outputId": "d34f6f09-b1f4-491c-ba1c-3bd1f37f76f8"
      },
      "execution_count": 16,
      "outputs": [
        {
          "output_type": "stream",
          "name": "stdout",
          "text": [
            "{1, 2, 3, 4, 5, 6, 7, 8, 9}\n",
            "{'krishna', 'teja'}\n"
          ]
        }
      ]
    },
    {
      "cell_type": "code",
      "source": [
        "mynum = {1, 2, 3, 4, 5, 6, 7, 8, 9, 10}\n",
        "mynum.discard(10)\n",
        "print(mynum)"
      ],
      "metadata": {
        "colab": {
          "base_uri": "https://localhost:8080/"
        },
        "id": "TrtId_9EBEa_",
        "outputId": "294eafa8-b733-4a1d-b9da-e0d088874de0"
      },
      "execution_count": 17,
      "outputs": [
        {
          "output_type": "stream",
          "name": "stdout",
          "text": [
            "{1, 2, 3, 4, 5, 6, 7, 8, 9}\n"
          ]
        }
      ]
    },
    {
      "cell_type": "markdown",
      "source": [
        "# Set Operations\n",
        "* Set provides built-in methods such as union, intersection, subtraction and symmetric difference to perform mathematical operations amoung sets.\n",
        "**1.Union:**\n",
        "\n",
        "* Combine of elements from two sets and removing the duplicates"
      ],
      "metadata": {
        "id": "skLe1nQpBV4F"
      }
    },
    {
      "cell_type": "code",
      "source": [
        "a = {1, 2, 3, 4, 5, 6, 7, 8, 9, 2, 3, 4, 5, 6, 7, 8, 9, 10}\n",
        "b = {1, 2, 3, 4, 5, 6, 7, 8}\n",
        "print(a | b)\n",
        "print(a.union(b))\n"
      ],
      "metadata": {
        "colab": {
          "base_uri": "https://localhost:8080/"
        },
        "id": "9q5BFU-aCuSe",
        "outputId": "cb12dee1-ea81-4030-edeb-338ecef161c3"
      },
      "execution_count": 18,
      "outputs": [
        {
          "output_type": "stream",
          "name": "stdout",
          "text": [
            "{1, 2, 3, 4, 5, 6, 7, 8, 9, 10}\n",
            "{1, 2, 3, 4, 5, 6, 7, 8, 9, 10}\n"
          ]
        }
      ]
    },
    {
      "cell_type": "code",
      "source": [
        "a = {\"sai\", \"teja\", \"krishna\"}\n",
        "b = {\"sai\", \"teja\", \"krishna\", \"siva\"}\n",
        "print(a | b)\n",
        "print(a.union(b))"
      ],
      "metadata": {
        "colab": {
          "base_uri": "https://localhost:8080/"
        },
        "id": "BhG5SMgXDm6v",
        "outputId": "a3b38156-19b9-48c5-a1e2-e52f800b0221"
      },
      "execution_count": 19,
      "outputs": [
        {
          "output_type": "stream",
          "name": "stdout",
          "text": [
            "{'siva', 'sai', 'krishna', 'teja'}\n",
            "{'siva', 'sai', 'krishna', 'teja'}\n"
          ]
        }
      ]
    },
    {
      "cell_type": "markdown",
      "source": [
        "**2.Intersection():**\n",
        "\n",
        "Returns common elements between two sets."
      ],
      "metadata": {
        "id": "ehHrVqYSDyOP"
      }
    },
    {
      "cell_type": "code",
      "source": [
        "a = {1, 2, 3, 4, 5, 6, 7, 8, 9,}\n",
        "b = {2, 3, 4, 6, 8}\n",
        "print(a & b)\n",
        "print(a.intersection(b))\n",
        "a = {\"sai\", \"teja\", \"krishna\"}\n",
        "b = {\"sai\", \"teja\", \"krishna\", \"siva\"}\n",
        "print(a & b)\n",
        "print(a.intersection(b))"
      ],
      "metadata": {
        "colab": {
          "base_uri": "https://localhost:8080/"
        },
        "id": "F965jV8yEGEM",
        "outputId": "5838e969-6031-453b-b8d3-9878a8f1d0f3"
      },
      "execution_count": 20,
      "outputs": [
        {
          "output_type": "stream",
          "name": "stdout",
          "text": [
            "{2, 3, 4, 6, 8}\n",
            "{2, 3, 4, 6, 8}\n",
            "{'krishna', 'sai', 'teja'}\n",
            "{'krishna', 'sai', 'teja'}\n"
          ]
        }
      ]
    },
    {
      "cell_type": "markdown",
      "source": [
        "**3.Difference:**\n",
        "\n",
        "Find the elements that are present in the first set but not in the second set."
      ],
      "metadata": {
        "id": "ZfNrHLUPEcMt"
      }
    },
    {
      "cell_type": "code",
      "source": [
        "a = {1, 2, 3, 4, 5, 6, 7, 8, 9,}\n",
        "b = {2, 3, 4, 6, 8}\n",
        "print(a - b)\n",
        "print(a.difference(b))\n",
        "a = {1, 2, 3, 4, 5, 6, 7, 8, 9,}\n",
        "b = {2, 3, 4, 6, 8}\n",
        "print(b - a)\n",
        "print(b.difference(a))"
      ],
      "metadata": {
        "colab": {
          "base_uri": "https://localhost:8080/"
        },
        "id": "imMKMRb2FHtb",
        "outputId": "df640601-f047-4b27-d4fb-a09ce6e0a552"
      },
      "execution_count": 22,
      "outputs": [
        {
          "output_type": "stream",
          "name": "stdout",
          "text": [
            "{1, 5, 9, 7}\n",
            "{1, 5, 9, 7}\n",
            "set()\n",
            "set()\n"
          ]
        }
      ]
    },
    {
      "cell_type": "markdown",
      "source": [
        "**4.Symmetric Difference:**\n",
        "\n",
        "Find the elements that are present in either set, but not in both sets."
      ],
      "metadata": {
        "id": "3L63H_9jFsW0"
      }
    },
    {
      "cell_type": "code",
      "source": [
        "a = {1, 2, 3, 4, 5, 6, 7, 8, 9,}\n",
        "b = {2, 3, 4, 6, 8}\n",
        "print(a ^ b)\n",
        "print(a.symmetric_difference(b))\n",
        "a = {\"sai\", \"teja\", \"krishna\"}\n",
        "b = {\"sai\", \"teja\", \"krishna\", \"siva\"}\n",
        "print(a ^ b)\n",
        "print(a.symmetric_difference(b))"
      ],
      "metadata": {
        "colab": {
          "base_uri": "https://localhost:8080/"
        },
        "id": "bitD7r_DGGJx",
        "outputId": "c138aa10-b4cb-4661-8659-5636822e106c"
      },
      "execution_count": 24,
      "outputs": [
        {
          "output_type": "stream",
          "name": "stdout",
          "text": [
            "{1, 5, 7, 9}\n",
            "{1, 5, 7, 9}\n",
            "{'siva'}\n",
            "{'siva'}\n"
          ]
        }
      ]
    }
  ]
}