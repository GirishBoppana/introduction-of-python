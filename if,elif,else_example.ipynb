{
  "nbformat": 4,
  "nbformat_minor": 0,
  "metadata": {
    "colab": {
      "provenance": []
    },
    "kernelspec": {
      "name": "python3",
      "display_name": "Python 3"
    },
    "language_info": {
      "name": "python"
    }
  },
  "cells": [
    {
      "cell_type": "markdown",
      "source": [
        "**1.Write a program to find the largest of three numbers entered by the user.**"
      ],
      "metadata": {
        "id": "gDNOgftWt0Us"
      }
    },
    {
      "cell_type": "code",
      "source": [
        "n1=int(input(\"Enter first number: \"))\n",
        "n2=int(input(\"Enter second number: \"))\n",
        "n3=int(input(\"Enter third number: \"))\n",
        "if n1>n2 and n1>n3:\n",
        "  print(n1,\"is largest number\")\n",
        "elif n2>n1 and n2>n3:\n",
        "  print(n2,\"is largest number\")\n",
        "else:\n",
        "  print(n3,\"is largest number\")"
      ],
      "metadata": {
        "colab": {
          "base_uri": "https://localhost:8080/"
        },
        "id": "YLbiAeXovK4M",
        "outputId": "48aeaceb-78dc-43af-f542-9af201ff46e6"
      },
      "execution_count": 3,
      "outputs": [
        {
          "output_type": "stream",
          "name": "stdout",
          "text": [
            "Enter first number: 11110892389\n",
            "Enter second number: 458598598\n",
            "Enter third number: 585857555\n",
            "11110892389 is largest number\n"
          ]
        }
      ]
    },
    {
      "cell_type": "markdown",
      "source": [
        "**2.Write a program to check if a number is divisible by both 5 and 11.**"
      ],
      "metadata": {
        "id": "gTi2xE0hvo4n"
      }
    },
    {
      "cell_type": "code",
      "source": [
        "n1=int(input(\"Enter a number: \"))\n",
        "if n1%5==0 and n1%11==0:\n",
        "  print(n1,\"is divisible by both 5 and 11\")\n",
        "else:\n",
        "  print(n1,\"is not divisible by both 5 and 11\")"
      ],
      "metadata": {
        "colab": {
          "base_uri": "https://localhost:8080/"
        },
        "id": "TBQ9czcbv_8y",
        "outputId": "821f7417-27b1-44b6-98c3-d48a09a5325e"
      },
      "execution_count": 5,
      "outputs": [
        {
          "output_type": "stream",
          "name": "stdout",
          "text": [
            "Enter a number: 55\n",
            "55 is divisible by both 5 and 11\n"
          ]
        }
      ]
    },
    {
      "cell_type": "markdown",
      "source": [
        "**3.Write a python program to check whether the input character is an alphabet,digit,or special character.**"
      ],
      "metadata": {
        "id": "bl-igG_cwkhh"
      }
    },
    {
      "cell_type": "code",
      "source": [
        "value = input(\"Enter a character: \")\n",
        "if value.isalpha():\n",
        "  print(value,\"is an alphabet\")\n",
        "elif value.isdigit():\n",
        "  print(value,\"is a digit\")\n",
        "else:\n",
        "  print(value,\"is a special character\")"
      ],
      "metadata": {
        "colab": {
          "base_uri": "https://localhost:8080/"
        },
        "id": "kKUq0TrdxX6s",
        "outputId": "ff3734bf-dda8-4560-970e-1b40517df944"
      },
      "execution_count": 6,
      "outputs": [
        {
          "output_type": "stream",
          "name": "stdout",
          "text": [
            "Enter a character: dd\n",
            "dd is an alphabet\n"
          ]
        }
      ]
    },
    {
      "cell_type": "markdown",
      "source": [
        "**4.Write a python to check if three sides can from a valid traingle.**"
      ],
      "metadata": {
        "id": "0HJY-5s1yFEp"
      }
    },
    {
      "cell_type": "code",
      "source": [
        "s1 = int(input(\"Enter first side: \"))\n",
        "s2 = int(input(\"Enter second side: \"))\n",
        "s3 = int(input(\"Enter third side: \"))\n",
        "if s1+s2>s3 and s1+s3>s2 and s2+s3>s1:\n",
        "  print(\"Three sides can form a valid triangle\")\n",
        "else:\n",
        "  print(\"Three sides can not form a valid triangle\")\n"
      ],
      "metadata": {
        "colab": {
          "base_uri": "https://localhost:8080/"
        },
        "id": "Br4wY03gycAR",
        "outputId": "9367c1f0-d002-4ba4-8e6e-80c3aca23fe1"
      },
      "execution_count": 8,
      "outputs": [
        {
          "output_type": "stream",
          "name": "stdout",
          "text": [
            "Enter first side: 10\n",
            "Enter second side: 20\n",
            "Enter third side: 30\n",
            "Three sides can not form a valid triangle\n"
          ]
        }
      ]
    },
    {
      "cell_type": "markdown",
      "source": [
        "**5.Write a python program to find the absolute value of a number.**"
      ],
      "metadata": {
        "id": "LwPM1IfGy-WW"
      }
    },
    {
      "cell_type": "code",
      "source": [
        "num = int(input(\"Enter a number: \"))\n",
        "if num<0:\n",
        "  print(\"Absolute value of\",num,\"is\",-num)\n",
        "else:\n",
        "  print(\"Absolute value of\",num,\"is\",num)"
      ],
      "metadata": {
        "colab": {
          "base_uri": "https://localhost:8080/"
        },
        "id": "0U0TDw8_zaZ7",
        "outputId": "8fa1468a-9321-469b-c871-97d53c6b6ddc"
      },
      "execution_count": 10,
      "outputs": [
        {
          "output_type": "stream",
          "name": "stdout",
          "text": [
            "Enter a number: -49\n",
            "Absolute value of -49 is 49\n"
          ]
        }
      ]
    },
    {
      "cell_type": "markdown",
      "source": [
        "**6.Write a python program to determine whether a given year is a century year or not.**"
      ],
      "metadata": {
        "id": "Ff2ZiFlwz9rz"
      }
    },
    {
      "cell_type": "code",
      "source": [
        "y = int(input(\"Enter a year: \"))\n",
        "if y%100==0:\n",
        "  print(y,\"is a century year\")\n",
        "else:\n",
        "  print(y,\"is not a century year\")"
      ],
      "metadata": {
        "colab": {
          "base_uri": "https://localhost:8080/"
        },
        "id": "Od95mH7y0Zzp",
        "outputId": "7a6ad6d7-5b23-48ef-9c48-5c73c0580a54"
      },
      "execution_count": 11,
      "outputs": [
        {
          "output_type": "stream",
          "name": "stdout",
          "text": [
            "Enter a year: 2020\n",
            "2020 is not a century year\n"
          ]
        }
      ]
    },
    {
      "cell_type": "markdown",
      "source": [
        "**7.Write a python program to determine whether a person's BMI(Body Mass index) falls under underweight, normalweight, overweight, or obese categories.**"
      ],
      "metadata": {
        "id": "YmAuTS4Y0m9d"
      }
    },
    {
      "cell_type": "code",
      "source": [
        "weight = float(input(\"Enter your weight in kg: \"))\n",
        "height = float(input(\"Enter your height in cm: \"))\n",
        "bmi = weight/(height/100)**2\n",
        "if bmi<18.5:\n",
        "  print(\"underweight\")\n",
        "elif bmi>=18.5 and bmi<=24.9:\n",
        "  print(\"normalweight\")\n",
        "elif bmi>=25 and bmi<=29.9:\n",
        "  print(\"overweight\")\n",
        "else:\n",
        "  print(\"obese\")"
      ],
      "metadata": {
        "colab": {
          "base_uri": "https://localhost:8080/"
        },
        "id": "Lu6L73U21piW",
        "outputId": "d7e1fb0f-7424-49e7-c7ff-e1a0b3577a8f"
      },
      "execution_count": 15,
      "outputs": [
        {
          "output_type": "stream",
          "name": "stdout",
          "text": [
            "Enter your weight in kg: 75\n",
            "Enter your height in cm: 170\n",
            "overweight\n"
          ]
        }
      ]
    },
    {
      "cell_type": "markdown",
      "source": [
        "**8.Write a python program to check if a given character is an uppercase or lowecase letter.**"
      ],
      "metadata": {
        "id": "_wFUK0o821J7"
      }
    },
    {
      "cell_type": "code",
      "source": [
        "ch = input(\"Enter a character: \")\n",
        "if ch.isupper():\n",
        "  print(ch,\"is an uppercase letter\")\n",
        "else:\n",
        "  print(ch,\"is a lowercase letter\")"
      ],
      "metadata": {
        "colab": {
          "base_uri": "https://localhost:8080/"
        },
        "id": "sxlPQxhG3aOQ",
        "outputId": "503714fc-5a64-4e4d-f373-f0eee95c9d54"
      },
      "execution_count": 16,
      "outputs": [
        {
          "output_type": "stream",
          "name": "stdout",
          "text": [
            "Enter a character: G\n",
            "G is an uppercase letter\n"
          ]
        }
      ]
    },
    {
      "cell_type": "markdown",
      "source": [
        "**9.Write a program to classify a number as small,medium, or large based on given thresolds.**"
      ],
      "metadata": {
        "id": "N1VjA9nO33L6"
      }
    },
    {
      "cell_type": "code",
      "source": [
        "num = (int(input(\"Enter a number: \")))\n",
        "if num<10:\n",
        "  print(num,\"is a small number\")\n",
        "elif num>=10 and num<=100:\n",
        "  print(num,\"is a medium number\")\n",
        "else:\n",
        "  print(num,\"is a large number\")"
      ],
      "metadata": {
        "colab": {
          "base_uri": "https://localhost:8080/"
        },
        "id": "2Aaquld54eFc",
        "outputId": "d2b2dfa9-ab98-4119-a945-6cd8e263e7ee"
      },
      "execution_count": 17,
      "outputs": [
        {
          "output_type": "stream",
          "name": "stdout",
          "text": [
            "Enter a number: 44\n",
            "44 is a medium number\n"
          ]
        }
      ]
    },
    {
      "cell_type": "markdown",
      "source": [
        "**10.Write a program to determine the type triangle based on the length of the sides (equilateral,isosceles,scalene).**"
      ],
      "metadata": {
        "id": "CKmuDElN45I-"
      }
    },
    {
      "cell_type": "code",
      "source": [
        "s1 = int(input(\"Enter first side: \"))\n",
        "s2 = int(input(\"Enter second side: \"))\n",
        "s3 = int(input(\"Enter third side: \"))\n",
        "if s1==s2==s3:\n",
        "  print(\"Equilateral triangle\")\n",
        "elif s1==s2 or s1==s3 or s2==s3:\n",
        "  print(\"Isosceles triangle\")\n",
        "else:\n",
        "  print(\"Scalene triangle\")"
      ],
      "metadata": {
        "colab": {
          "base_uri": "https://localhost:8080/"
        },
        "id": "i5xoT1PF5yat",
        "outputId": "91f79977-e3fb-4922-d09e-973f84caf0f7"
      },
      "execution_count": 18,
      "outputs": [
        {
          "output_type": "stream",
          "name": "stdout",
          "text": [
            "Enter first side: 20\n",
            "Enter second side: 40\n",
            "Enter third side: 20\n",
            "Isosceles triangle\n"
          ]
        }
      ]
    },
    {
      "cell_type": "markdown",
      "source": [
        "**11.Write a program to check if a number is a palindrome.**"
      ],
      "metadata": {
        "id": "I40kp8rY6J_U"
      }
    },
    {
      "cell_type": "code",
      "source": [
        "num = int(input(\"Enter a number: \"))\n",
        "if str(num)==str(num)[::-1]:\n",
        "  print(num,\"is a palindrome\")\n",
        "else:\n",
        "  print(num,\"is not a palindrome\")"
      ],
      "metadata": {
        "colab": {
          "base_uri": "https://localhost:8080/"
        },
        "id": "Rlp3Uxp16ehI",
        "outputId": "734661b1-47a5-46fc-f72e-9efef14b849c"
      },
      "execution_count": 19,
      "outputs": [
        {
          "output_type": "stream",
          "name": "stdout",
          "text": [
            "Enter a number: 20\n",
            "20 is not a palindrome\n"
          ]
        }
      ]
    },
    {
      "cell_type": "markdown",
      "source": [
        "**12.Write a program to determine if a given angle is acute, right, or obtuse.**"
      ],
      "metadata": {
        "id": "P42oqWPm6f11"
      }
    },
    {
      "cell_type": "code",
      "source": [
        "angle = int(input(\"Enter an angle: \"))\n",
        "if angle<90:\n",
        "  print(angle,\"is acute angle\")\n",
        "elif angle==90:\n",
        "  print(angle,\"is right angle\")\n",
        "else:\n",
        "  print(angle,\"is obtuse angle\")"
      ],
      "metadata": {
        "colab": {
          "base_uri": "https://localhost:8080/"
        },
        "id": "xFIbdG0b7B0E",
        "outputId": "66be45af-22c6-42de-e8f4-90d3c55bc2e9"
      },
      "execution_count": 20,
      "outputs": [
        {
          "output_type": "stream",
          "name": "stdout",
          "text": [
            "Enter an angle: 98\n",
            "98 is obtuse angle\n"
          ]
        }
      ]
    },
    {
      "cell_type": "markdown",
      "source": [
        "**13.Write a program to check whether the sum of two numbers is equal to a third number provide by the user.**"
      ],
      "metadata": {
        "id": "n0kyrq607CNB"
      }
    },
    {
      "cell_type": "code",
      "source": [
        "num1 = int(input(\"Enter first number: \"))\n",
        "num2 = int(input(\"Enter second number: \"))\n",
        "num3 = int(input(\"Enter third number: \"))\n",
        "if num1+num2==num3:\n",
        "  print(\"The sum of\",num1,\"and\",num2 ,\"is equal to\",num3)\n",
        "elif num2+num3==num1:\n",
        "  print(\"The sum of\",num2,\"and\",num3 ,\"is equal to\",num1)\n",
        "elif num1+num3==num2:\n",
        "  print(\"The sum of\",num1,\"and\",num3 ,\"is equal to\",num2)\n",
        "else:\n",
        "  print(\"The sum of\",num1,\",\",num2,\"and\",num3,\"is not equal to any number\")"
      ],
      "metadata": {
        "colab": {
          "base_uri": "https://localhost:8080/"
        },
        "id": "F1IXRAUV8Swc",
        "outputId": "5c89d827-3831-432d-cf3b-3b813f2e835d"
      },
      "execution_count": 22,
      "outputs": [
        {
          "output_type": "stream",
          "name": "stdout",
          "text": [
            "Enter first number: 30\n",
            "Enter second number: 40\n",
            "Enter third number: 60\n",
            "The sum of 30 , 40 and 60 is not equal to any number\n"
          ]
        }
      ]
    }
  ]
}