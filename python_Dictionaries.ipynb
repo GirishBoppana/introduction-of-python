{
  "nbformat": 4,
  "nbformat_minor": 0,
  "metadata": {
    "colab": {
      "provenance": []
    },
    "kernelspec": {
      "name": "python3",
      "display_name": "Python 3"
    },
    "language_info": {
      "name": "python"
    }
  },
  "cells": [
    {
      "cell_type": "markdown",
      "source": [
        "# Python Dictionaries\n",
        "  Python dictionaries are a built-in data type that allows you to store collections of key-value pairs. They are often used when you need a mapping from unique keys to values. Here's a breakdown of their key features and usage:\n",
        "\n",
        "* Dictionaries do not maintain any order for the key-value pairs. As of Python 3.7, dictionaries preserve the insertion order, but this is more of an implementation detail rather than a guaranteed feature in earlier versions.\n",
        "\n",
        "* You can change the dictionary after it has been created, adding, removing, or modifying key-value pairs.\n",
        "\n",
        "* Keys in a dictionary must be unique. If you try to use a key that already exists, the value associated with that key will be updated.\n",
        "\n",
        "* Keys must be immutable types. This includes strings, numbers, and tuples containing only immutable types. Lists and other dictionaries are not allowed as dictionary keys.\n",
        "\n",
        "* Values can be of any type and can be duplicated.\n",
        "\n",
        "# Creating Dictionaries:\n",
        "  "
      ],
      "metadata": {
        "id": "bMz1a_eDz9lw"
      }
    },
    {
      "cell_type": "code",
      "source": [
        "empty_dict = {}\n",
        "person = {\"name\": \"Alice\", \"age\": 30, \"city\": \"New York\"}\n",
        "print(person)"
      ],
      "metadata": {
        "colab": {
          "base_uri": "https://localhost:8080/"
        },
        "id": "FKSKE9aU1qEG",
        "outputId": "1dc4b329-baa6-47b7-c68e-490d3f345a0f"
      },
      "execution_count": null,
      "outputs": [
        {
          "output_type": "stream",
          "name": "stdout",
          "text": [
            "{'name': 'Alice', 'age': 30, 'city': 'New York'}\n"
          ]
        }
      ]
    },
    {
      "cell_type": "code",
      "source": [
        "student = dict(name=\"Bob\", age=22, city=\"San Francisco\")\n",
        "print(student)"
      ],
      "metadata": {
        "colab": {
          "base_uri": "https://localhost:8080/"
        },
        "id": "lsg8b8NA2QtN",
        "outputId": "b1cc1ffb-3cd0-49b6-edd6-60cec5e31344"
      },
      "execution_count": null,
      "outputs": [
        {
          "output_type": "stream",
          "name": "stdout",
          "text": [
            "{'name': 'Bob', 'age': 22, 'city': 'San Francisco'}\n"
          ]
        }
      ]
    },
    {
      "cell_type": "markdown",
      "source": [
        "# Mixed dictionaries\n",
        "\n",
        "* In Python refer to dictionaries that contain a mix of different types of values or key-value pairs, such as having keys of different types or values that vary in type."
      ],
      "metadata": {
        "id": "Do2H37R8385q"
      }
    },
    {
      "cell_type": "code",
      "source": [
        "mixed_dict = {\"name\": \"John\", \"age\" : 25,\"grade\" : [90, 88, 95]}\n",
        "print(mixed_dict)"
      ],
      "metadata": {
        "colab": {
          "base_uri": "https://localhost:8080/"
        },
        "id": "yHs7Ux6h4aZc",
        "outputId": "f933f096-1d35-4e2f-deab-2c13b23c767f"
      },
      "execution_count": null,
      "outputs": [
        {
          "output_type": "stream",
          "name": "stdout",
          "text": [
            "{'name': 'John', 'age': 25, 'grade': [90, 88, 95]}\n"
          ]
        }
      ]
    },
    {
      "cell_type": "code",
      "source": [
        "mixed_dict1 = {\"name\": \"teja\", \"age\": 22, \"grades\": {\"math\": 90, \"science\": 88, \"history\": 95}}\n",
        "print(mixed_dict1)"
      ],
      "metadata": {
        "colab": {
          "base_uri": "https://localhost:8080/"
        },
        "id": "7UNpU4Nz5RGc",
        "outputId": "dd45f1a7-c0a9-4a4f-b9d2-6b95a2766806"
      },
      "execution_count": null,
      "outputs": [
        {
          "output_type": "stream",
          "name": "stdout",
          "text": [
            "{'name': 'teja', 'age': 22, 'grades': {'math': 90, 'science': 88, 'history': 95}}\n"
          ]
        }
      ]
    },
    {
      "cell_type": "markdown",
      "source": [
        "# Accessing values:\n",
        "* you can access the values in dictionary using the keys"
      ],
      "metadata": {
        "id": "3OuxQDSS6AD5"
      }
    },
    {
      "cell_type": "code",
      "source": [
        "# accessing the values\n",
        "mixed_dict = {\"name\": \"John\", \"age\" : 25,\"grade\" : [90, 88, 95]}\n",
        "print(mixed_dict)\n",
        "print(mixed_dict[\"name\"])\n",
        "print(mixed_dict[\"age\"])\n",
        "print(mixed_dict[\"grade\"])"
      ],
      "metadata": {
        "colab": {
          "base_uri": "https://localhost:8080/"
        },
        "id": "-H6K99kj61Bt",
        "outputId": "6788c167-4683-442e-b62c-fefc49781ef0"
      },
      "execution_count": null,
      "outputs": [
        {
          "output_type": "stream",
          "name": "stdout",
          "text": [
            "{'name': 'John', 'age': 25, 'grade': [90, 88, 95]}\n",
            "John\n",
            "25\n",
            "[90, 88, 95]\n"
          ]
        }
      ]
    },
    {
      "cell_type": "code",
      "source": [
        "mixed_dict1 = {\"name\": \"teja\", \"age\": 22, \"grades\": {\"math\": 90, \"science\": 88, \"history\": 95}}\n",
        "print(mixed_dict1)\n",
        "print(mixed_dict1[\"name\"])\n",
        "print(mixed_dict1[\"age\"])\n",
        "print(mixed_dict1[\"grades\"])"
      ],
      "metadata": {
        "colab": {
          "base_uri": "https://localhost:8080/"
        },
        "id": "ioi2era67Hps",
        "outputId": "d4ae2fe5-3342-4381-a0d5-ac271651f748"
      },
      "execution_count": null,
      "outputs": [
        {
          "output_type": "stream",
          "name": "stdout",
          "text": [
            "{'name': 'teja', 'age': 22, 'grades': {'math': 90, 'science': 88, 'history': 95}}\n",
            "teja\n",
            "22\n",
            "{'math': 90, 'science': 88, 'history': 95}\n"
          ]
        }
      ]
    },
    {
      "cell_type": "markdown",
      "source": [
        "# Modifiying and Adding Entries:\n",
        "* Dictionaries are mutable , so we can modify existing entries or add new ones."
      ],
      "metadata": {
        "id": "HTp55jtD7PMv"
      }
    },
    {
      "cell_type": "code",
      "source": [
        "mixed_dict = {\"name\": \"John\", \"age\" : 55,\"grade\" : [90, 88, 95]}\n",
        "print(mixed_dict)\n",
        "mixed_dict[\"age\"] = 25\n",
        "print(mixed_dict)"
      ],
      "metadata": {
        "colab": {
          "base_uri": "https://localhost:8080/"
        },
        "id": "Hx4yrWpD8lYS",
        "outputId": "12788dd1-1b97-45b0-ac19-aa5e81b3575b"
      },
      "execution_count": null,
      "outputs": [
        {
          "output_type": "stream",
          "name": "stdout",
          "text": [
            "{'name': 'John', 'age': 55, 'grade': [90, 88, 95]}\n",
            "{'name': 'John', 'age': 25, 'grade': [90, 88, 95]}\n"
          ]
        }
      ]
    },
    {
      "cell_type": "code",
      "source": [
        "mixed_dict1 = {\"name\": \"teja\", \"age\": 70, \"grades\": {\"math\": 90, \"science\": 88, \"history\": 95}}\n",
        "print(mixed_dict1)\n",
        "mixed_dict[\"age\"] = 22\n",
        "print(mixed_dict1)"
      ],
      "metadata": {
        "colab": {
          "base_uri": "https://localhost:8080/"
        },
        "id": "jojOBy9B84l4",
        "outputId": "54c56e4c-2dfe-4b85-a931-58d9087ddc3e"
      },
      "execution_count": null,
      "outputs": [
        {
          "output_type": "stream",
          "name": "stdout",
          "text": [
            "{'name': 'teja', 'age': 70, 'grades': {'math': 90, 'science': 88, 'history': 95}}\n",
            "{'name': 'teja', 'age': 70, 'grades': {'math': 90, 'science': 88, 'history': 95}}\n"
          ]
        }
      ]
    },
    {
      "cell_type": "markdown",
      "source": [
        "**Adding a new entry**"
      ],
      "metadata": {
        "id": "pfN7heD_9aQR"
      }
    },
    {
      "cell_type": "code",
      "source": [
        "student = {\"name\": \"Alice\", \"age\": 20, \"city\": \"New York\"}\n",
        "student[\"grade\"] = \"A\"\n",
        "print(student)"
      ],
      "metadata": {
        "colab": {
          "base_uri": "https://localhost:8080/"
        },
        "id": "I7E9cptc9moS",
        "outputId": "69c86c16-1651-487e-fdb0-4653f1024a2c"
      },
      "execution_count": null,
      "outputs": [
        {
          "output_type": "stream",
          "name": "stdout",
          "text": [
            "{'name': 'Alice', 'age': 20, 'city': 'New York', 'grade': 'A'}\n"
          ]
        }
      ]
    },
    {
      "cell_type": "code",
      "source": [
        "student[\"grade\"] = \"B\"\n",
        "student[\"qulification\"] = \"B.tech\"\n",
        "print(student)"
      ],
      "metadata": {
        "colab": {
          "base_uri": "https://localhost:8080/"
        },
        "id": "s_yTBgOe9zBe",
        "outputId": "ffaba5f0-5d02-4259-fb18-1a6c4862e810"
      },
      "execution_count": null,
      "outputs": [
        {
          "output_type": "stream",
          "name": "stdout",
          "text": [
            "{'name': 'Alice', 'age': 20, 'city': 'New York', 'grade': 'B', 'qulification': 'B.tech'}\n"
          ]
        }
      ]
    },
    {
      "cell_type": "markdown",
      "source": [
        "# Dictionary Methods:\n",
        "**1.get()**\n",
        "\n",
        "* It will returns the values for the specified key, it allows you to provide a default vaue if key is not found."
      ],
      "metadata": {
        "id": "nHccGFlx-7h4"
      }
    },
    {
      "cell_type": "code",
      "source": [
        "student = {\"name\": \"Alice\", \"age\": 20, \"grade\": \"A\"}\n",
        "g = student.get(\"grade\", \"no grade\")\n",
        "gender = student.get(\"gender\", \"not specified\")\n",
        "l = student.get(\"location\", \"no location\")\n",
        "print(g)\n",
        "print(gender)\n",
        "print(l)"
      ],
      "metadata": {
        "colab": {
          "base_uri": "https://localhost:8080/"
        },
        "id": "tYaDn2Mm_5Xb",
        "outputId": "232d49a0-80f3-4424-aa51-88811fd53f9c"
      },
      "execution_count": null,
      "outputs": [
        {
          "output_type": "stream",
          "name": "stdout",
          "text": [
            "A\n",
            "not specified\n",
            "no location\n"
          ]
        }
      ]
    },
    {
      "cell_type": "code",
      "source": [
        "student = {\"name\": \"sai\", \"age\": 22, \"grade\": \"B\", \"gender\": \"male\"}\n",
        "g = student.get(\"grade\", \"no grade\")\n",
        "gender = student.get(\"gender\", \"not specified\")\n",
        "l = student.get(\"location\", \"no location\")\n",
        "print(g)\n",
        "print(gender)\n",
        "print(l)"
      ],
      "metadata": {
        "colab": {
          "base_uri": "https://localhost:8080/"
        },
        "id": "3uVW0ToZA66s",
        "outputId": "69f24ac6-eb70-4b35-cef0-7e4829462764"
      },
      "execution_count": null,
      "outputs": [
        {
          "output_type": "stream",
          "name": "stdout",
          "text": [
            "B\n",
            "male\n",
            "no location\n"
          ]
        }
      ]
    },
    {
      "cell_type": "markdown",
      "source": [
        "**2.keys():**\n",
        "* Returns a view of all the keys in the dictionary."
      ],
      "metadata": {
        "id": "ViNIoARLBxQo"
      }
    },
    {
      "cell_type": "code",
      "source": [
        "student = {\"name\": \"sai\", \"age\": 22, \"grade\": \"B\", \"gender\": \"male\"}\n",
        "Key = student.keys()\n",
        "print(Key)"
      ],
      "metadata": {
        "colab": {
          "base_uri": "https://localhost:8080/"
        },
        "id": "_D_bZFWsCp9s",
        "outputId": "809f8bb5-24cb-4209-fac3-b7a0f8f418d0"
      },
      "execution_count": null,
      "outputs": [
        {
          "output_type": "stream",
          "name": "stdout",
          "text": [
            "dict_keys(['name', 'age', 'grade', 'gender'])\n"
          ]
        }
      ]
    },
    {
      "cell_type": "code",
      "source": [
        "student = {\"name\": \"Alice\", \"age\": 20, \"grade\": \"A\"}\n",
        "key1 = student.keys()\n",
        "print(key1)"
      ],
      "metadata": {
        "colab": {
          "base_uri": "https://localhost:8080/"
        },
        "id": "mm5aofQGDFOi",
        "outputId": "09f1f239-2b93-4e66-c5f1-a82ca019cfac"
      },
      "execution_count": null,
      "outputs": [
        {
          "output_type": "stream",
          "name": "stdout",
          "text": [
            "dict_keys(['name', 'age', 'grade'])\n"
          ]
        }
      ]
    },
    {
      "cell_type": "markdown",
      "source": [
        "**3.Values():**\n",
        "* Returns a view of all the values in the dictionary."
      ],
      "metadata": {
        "id": "FDrpkOTeDQza"
      }
    },
    {
      "cell_type": "code",
      "source": [
        "student = {\"name\": \"Alice\", \"age\": 20, \"grade\": \"A\"}\n",
        "values = student.values()\n",
        "print(values)"
      ],
      "metadata": {
        "colab": {
          "base_uri": "https://localhost:8080/"
        },
        "id": "QWXufpnkDt6a",
        "outputId": "d615fe19-23d9-4cf9-b3c7-e8ce660aa639"
      },
      "execution_count": null,
      "outputs": [
        {
          "output_type": "stream",
          "name": "stdout",
          "text": [
            "dict_values(['Alice', 20, 'A'])\n"
          ]
        }
      ]
    },
    {
      "cell_type": "code",
      "source": [
        "student = {\"name\": \"sai\", \"age\": 22, \"grade\": \"B\", \"gender\": \"male\"}\n",
        "values1 = student.values()\n",
        "print(values1)"
      ],
      "metadata": {
        "colab": {
          "base_uri": "https://localhost:8080/"
        },
        "id": "2Wx1HqfFD4uO",
        "outputId": "5fdd4441-2158-4c1c-b4cb-193a4a57ac2e"
      },
      "execution_count": null,
      "outputs": [
        {
          "output_type": "stream",
          "name": "stdout",
          "text": [
            "dict_values(['sai', 22, 'B', 'male'])\n"
          ]
        }
      ]
    },
    {
      "cell_type": "markdown",
      "source": [
        "**4.items():**\n",
        "* Returns a view of all key-values pairs as tuples."
      ],
      "metadata": {
        "id": "bDnjD3wLD-H-"
      }
    },
    {
      "cell_type": "code",
      "source": [
        "student = {\"name\": \"sai\", \"age\": 22, \"grade\": \"B\", \"gender\": \"male\"}\n",
        "items = student.items()\n",
        "print(items)"
      ],
      "metadata": {
        "colab": {
          "base_uri": "https://localhost:8080/"
        },
        "id": "08E9gC8CEfkM",
        "outputId": "82d71131-4269-4ff5-cfb5-0daf5de060c9"
      },
      "execution_count": null,
      "outputs": [
        {
          "output_type": "stream",
          "name": "stdout",
          "text": [
            "dict_items([('name', 'sai'), ('age', 22), ('grade', 'B'), ('gender', 'male')])\n"
          ]
        }
      ]
    },
    {
      "cell_type": "code",
      "source": [
        "student = {\"name\": \"Alice\", \"age\": 20, \"grade\": \"A\"}\n",
        "items1 = student.items()\n",
        "print(items1)"
      ],
      "metadata": {
        "colab": {
          "base_uri": "https://localhost:8080/"
        },
        "id": "G-YNOFIJEm4g",
        "outputId": "4bd15881-2bd1-4b8a-a857-4014788972b0"
      },
      "execution_count": null,
      "outputs": [
        {
          "output_type": "stream",
          "name": "stdout",
          "text": [
            "dict_items([('name', 'Alice'), ('age', 20), ('grade', 'A')])\n"
          ]
        }
      ]
    },
    {
      "cell_type": "markdown",
      "source": [
        "**5.Pop():**\n",
        "* Remove and returns the value for a specifed key."
      ],
      "metadata": {
        "id": "uGEUeVMyE00R"
      }
    },
    {
      "cell_type": "code",
      "source": [
        "student = {\"name\": \"Alice\", \"age\": 20, \"grade\": \"A\"}\n",
        "grade = student.pop(\"grade\")\n",
        "print(grade)\n",
        "print(student)\n"
      ],
      "metadata": {
        "colab": {
          "base_uri": "https://localhost:8080/"
        },
        "id": "NHWodX7GFV65",
        "outputId": "122c615d-aa11-4db9-b523-5d6a863e42f3"
      },
      "execution_count": null,
      "outputs": [
        {
          "output_type": "stream",
          "name": "stdout",
          "text": [
            "A\n",
            "{'name': 'Alice', 'age': 20}\n"
          ]
        }
      ]
    },
    {
      "cell_type": "code",
      "source": [
        "student = {\"name\": \"sai\", \"age\": 22, \"grade\": \"B\", \"gender\": \"male\"}\n",
        "name = student.pop(\"name\")\n",
        "print(name)\n",
        "print(student)"
      ],
      "metadata": {
        "colab": {
          "base_uri": "https://localhost:8080/"
        },
        "id": "TlzJMw2yGCfD",
        "outputId": "86acf034-01f2-43d2-99ca-30f128b8a57a"
      },
      "execution_count": null,
      "outputs": [
        {
          "output_type": "stream",
          "name": "stdout",
          "text": [
            "sai\n",
            "{'age': 22, 'grade': 'B', 'gender': 'male'}\n"
          ]
        }
      ]
    },
    {
      "cell_type": "markdown",
      "source": [
        "**7.Update():**\n",
        "* update the dictionary with the element from another dictionary or from an iterable of keys value pairs."
      ],
      "metadata": {
        "id": "hqs-Q3MWGJgw"
      }
    },
    {
      "cell_type": "code",
      "source": [
        "student = {\"name\": \"Alice\", \"age\": 20, \"grade\": \"A\"}\n",
        "student1 = {\"city\": \"New York\"}\n",
        "student.update(student1)\n",
        "print(student)"
      ],
      "metadata": {
        "colab": {
          "base_uri": "https://localhost:8080/"
        },
        "id": "h5bNjTnDHB9W",
        "outputId": "80f30976-acaa-490b-8977-8230f1b5e7c3"
      },
      "execution_count": null,
      "outputs": [
        {
          "output_type": "stream",
          "name": "stdout",
          "text": [
            "{'name': 'Alice', 'age': 20, 'grade': 'A', 'city': 'New York'}\n"
          ]
        }
      ]
    },
    {
      "cell_type": "code",
      "source": [
        "student = {\"name\": \"sai\", \"age\": 22, \"grade\": \"B\", \"gender\": \"male\"}\n",
        "student1 = {\"city\": \"Hyderabad\"}\n",
        "student.update(student1)\n",
        "print(student)"
      ],
      "metadata": {
        "colab": {
          "base_uri": "https://localhost:8080/"
        },
        "id": "Zib52Y2kHXyE",
        "outputId": "42739f5c-cbba-4131-fbf5-d0c207c0da46"
      },
      "execution_count": null,
      "outputs": [
        {
          "output_type": "stream",
          "name": "stdout",
          "text": [
            "{'name': 'sai', 'age': 22, 'grade': 'B', 'gender': 'male', 'city': 'Hyderabad'}\n"
          ]
        }
      ]
    }
  ]
}